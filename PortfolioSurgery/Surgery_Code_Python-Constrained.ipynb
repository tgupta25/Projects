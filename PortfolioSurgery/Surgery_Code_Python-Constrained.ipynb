{
 "cells": [
  {
   "cell_type": "code",
   "execution_count": 1,
   "metadata": {},
   "outputs": [],
   "source": [
    "# import packages\n",
    "import numpy as np\n",
    "import matplotlib.pyplot as plt\n",
    "import pandas as pd\n",
    "from sklearn.linear_model import LinearRegression"
   ]
  },
  {
   "cell_type": "code",
   "execution_count": null,
   "metadata": {},
   "outputs": [],
   "source": [
    "# stock is the possible stock price space\n",
    "stock = np.arange(1,101)"
   ]
  },
  {
   "cell_type": "code",
   "execution_count": null,
   "metadata": {
    "scrolled": true
   },
   "outputs": [],
   "source": [
    "# Then call and put are the possible call and put payments space\n",
    "call = np.maximum(stock - np.transpose([[10,30,50,70,90]]), 0)\n",
    "put = np.maximum(-stock + np.transpose([[10,30,50,70,90]]), 0)"
   ]
  },
  {
   "cell_type": "code",
   "execution_count": null,
   "metadata": {},
   "outputs": [],
   "source": [
    "# import portfolio data\n",
    "# use your own file path to replace\n",
    "file_path = r\"Portfolio Surgery Test 1-1.xlsx\"\n",
    "portfolio_dataframe = pd.read_excel(file_path)\n",
    "portfolio_dataframe"
   ]
  },
  {
   "cell_type": "code",
   "execution_count": null,
   "metadata": {},
   "outputs": [],
   "source": [
    "plt.plot(portfolio_dataframe['Portfolio'])\n",
    "plt.title('Portfolio')\n",
    "plt.xlabel('stock price')\n",
    "plt.ylabel('payoff')\n",
    "plt.show()"
   ]
  },
  {
   "cell_type": "code",
   "execution_count": null,
   "metadata": {},
   "outputs": [],
   "source": [
    "# plot call and put\n",
    "call, put = np.transpose(call), np.transpose(put)"
   ]
  },
  {
   "cell_type": "code",
   "execution_count": null,
   "metadata": {},
   "outputs": [],
   "source": [
    "plt.plot(call)\n",
    "plt.title('call')\n",
    "plt.xlabel('stock price')\n",
    "plt.ylabel('payoff')\n",
    "plt.show()"
   ]
  },
  {
   "cell_type": "code",
   "execution_count": null,
   "metadata": {},
   "outputs": [],
   "source": [
    "plt.plot(put)\n",
    "plt.title('put')\n",
    "plt.xlabel('stock price')\n",
    "plt.ylabel('payoff')\n",
    "plt.show()"
   ]
  },
  {
   "cell_type": "code",
   "execution_count": null,
   "metadata": {},
   "outputs": [],
   "source": [
    "# x is the independent variable, axis = 1 means concat \n",
    "x = np.concatenate((call, put), axis=1)"
   ]
  },
  {
   "cell_type": "code",
   "execution_count": null,
   "metadata": {},
   "outputs": [],
   "source": [
    "negative_portfolio1 = np.minimum(portfolio_dataframe['Portfolio'], 0)\n",
    "plt.plot(negative_portfolio1)\n",
    "plt.title(\"negative part of portfolio1\")\n",
    "plt.xlabel('stock price')\n",
    "plt.ylabel('payoff')\n",
    "plt.show()"
   ]
  },
  {
   "cell_type": "code",
   "execution_count": null,
   "metadata": {
    "scrolled": true
   },
   "outputs": [],
   "source": [
    "model = LinearRegression(fit_intercept=False)\n",
    "beta = model.fit(x, negative_portfolio1.values).coef_\n",
    "plt.scatter(list(range(len(beta))), beta)\n",
    "plt.title('Regression coefficient')\n",
    "plt.show()"
   ]
  },
  {
   "cell_type": "code",
   "execution_count": null,
   "metadata": {},
   "outputs": [],
   "source": [
    "aftersurgery = negative_portfolio1 - np.dot(x,beta)"
   ]
  },
  {
   "cell_type": "code",
   "execution_count": null,
   "metadata": {},
   "outputs": [],
   "source": [
    "plt.plot(stock,portfolio_dataframe['Portfolio 1'])\n",
    "plt.plot(stock, aftersurgery)\n",
    "plt.xlabel('stock price')\n",
    "plt.ylabel('payoff')\n",
    "plt.legend([\"Portfolio\",\"after_surgery\"])\n",
    "plt.title(\"comparison\")\n",
    "plt.show()"
   ]
  },
  {
   "cell_type": "code",
   "execution_count": null,
   "metadata": {},
   "outputs": [],
   "source": [
    "plt.plot(stock, aftersurgery)\n",
    "plt.xlabel('stock price')\n",
    "plt.ylabel('payoff')\n",
    "plt.legend([\"after_surgery\"])\n",
    "plt.show()"
   ]
  },
  {
   "cell_type": "code",
   "execution_count": null,
   "metadata": {},
   "outputs": [],
   "source": [
    "option_payoff = np.dot(x,beta)\n",
    "plt.xlabel('stock price')\n",
    "plt.ylabel('payoff')\n",
    "plt.plot(option_payoff)\n",
    "plt.plot(portfolio_dataframe['Portfolio 1'])\n",
    "plt.legend([\"combined options payoff\",\"Original Portfolio\"])\n",
    "plt.show()"
   ]
  }
 ],
 "metadata": {
  "kernelspec": {
   "display_name": "Python 3 (ipykernel)",
   "language": "python",
   "name": "python3"
  },
  "language_info": {
   "codemirror_mode": {
    "name": "ipython",
    "version": 3
   },
   "file_extension": ".py",
   "mimetype": "text/x-python",
   "name": "python",
   "nbconvert_exporter": "python",
   "pygments_lexer": "ipython3",
   "version": "3.9.7"
  }
 },
 "nbformat": 4,
 "nbformat_minor": 4
}
